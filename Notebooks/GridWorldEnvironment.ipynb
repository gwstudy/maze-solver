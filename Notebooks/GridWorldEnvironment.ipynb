{
 "cells": [
  {
   "cell_type": "code",
   "execution_count": 165,
   "id": "f1c6a0b7",
   "metadata": {},
   "outputs": [],
   "source": [
    "# add parent directory to path: enable import from parent dir\n",
    "import sys\n",
    "sys.path.append('../')\n",
    "\n",
    "import io\n",
    "import math\n",
    "import PIL\n",
    "\n",
    "from gym import Env as OpenAIEnv\n",
    "from gym import spaces\n",
    "from IPython.display import HTML\n",
    "from IPython.display import Video\n",
    "import matplotlib.pyplot as plt \n",
    "from matplotlib.animation import FuncAnimation\n",
    "import numpy as np"
   ]
  },
  {
   "cell_type": "markdown",
   "id": "6b4ba0f2-c2db-491a-8f2f-3ccf05372a4d",
   "metadata": {},
   "source": [
    "## Grid World - Maze"
   ]
  },
  {
   "cell_type": "code",
   "execution_count": 202,
   "id": "210fb16a",
   "metadata": {},
   "outputs": [],
   "source": [
    "from gym import Env as OpenAIEnv\n",
    "from gym import spaces\n",
    "import matplotlib.pyplot as plt \n",
    "from matplotlib.animation import FuncAnimation\n",
    "import numpy as np\n",
    "\n",
    "class Rewards:\n",
    "    GOAL = 5.0\n",
    "    WALL = -15.0\n",
    "    OUT_OF_BOUND = -0.75\n",
    "    VISITED = -0.85\n",
    "    LEGAL = -0.05\n",
    "\n",
    "class GridEnv(OpenAIEnv):\n",
    "    def __init__(\n",
    "        self,\n",
    "        maze,\n",
    "        is_stochastic,\n",
    "        action_transitions,\n",
    "        max_timesteps=300,\n",
    "        state_as_img=False,\n",
    "        full_state=False,\n",
    "    ):\n",
    "        self.maze = maze\n",
    "        self.w, self.h = np.shape(maze)\n",
    "        self.is_stochastic = is_stochastic\n",
    "        self.n_actions = len(action_transitions)\n",
    "        self.action_transitions = action_transitions\n",
    "        self.current_action = None\n",
    "        self.observation_space = spaces.Discrete(self.w*self.h)\n",
    "        self.action_space = spaces.Discrete(self.n_actions)\n",
    "        self.states = [(i, j) for j in range(self.w) for i in range(self.h)]\n",
    "        self.actions = list(self.action_transitions)\n",
    "        self.max_timesteps = max_timesteps\n",
    "        self.timestep = 0\n",
    "        self.state = maze.copy()\n",
    "        self.visited = {(i, j):False for j in range(self.w) for i in range(self.h)}\n",
    "        self.agent_pos = np.array([0, 0])\n",
    "        self.current_state = (self.agent_pos[0], self.agent_pos[1])\n",
    "        self.max_timesteps = max_timesteps\n",
    "        self.state_as_img = state_as_img\n",
    "        self.max_reward = Rewards.GOAL\n",
    "        self.min_reward = Rewards.WALL\n",
    "        self.full_state = full_state\n",
    "        \n",
    "        # set random goal position\n",
    "        self.goal_pos = np.array([self.w-1, self.h-1])\n",
    "        \n",
    "        # set colors for visualization\n",
    "        self.state[self.agent_pos[0]][self.agent_pos[1]] = 0.2\n",
    "        self.state[self.goal_pos[0]][self.goal_pos[1]] = 0.4\n",
    "        \n",
    "        fig, ax, mesh = self._set_figure(\n",
    "            self.state,\n",
    "            show_fig=True,\n",
    "        )\n",
    "        \n",
    "    @staticmethod\n",
    "    def _get_plot_img(fig):\n",
    "        fig.canvas.draw()\n",
    "        return PIL.Image.frombytes(\n",
    "            'RGB',\n",
    "            fig.canvas.get_width_height(),\n",
    "            fig.canvas.tostring_rgb(),\n",
    "        )\n",
    "        \n",
    "    def _set_figure(\n",
    "        self,\n",
    "        grid,\n",
    "        n=1,\n",
    "        m=1,\n",
    "        figsize=(5, 5),\n",
    "        show_fig=False,\n",
    "        show_title=False,\n",
    "    ):\n",
    "        fig, ax = plt.subplots(n, m, figsize=figsize)\n",
    "        mesh = []\n",
    "        \n",
    "        # for single plot\n",
    "        if n == 1 and m == 1:\n",
    "            # Set grid size\n",
    "            ax.set_xticks(np.arange(0, self.w, 1))\n",
    "            ax.set_yticks(np.arange(0, self.h, 1))\n",
    "            mesh.append(ax.pcolormesh(grid, cmap ='tab20c'))\n",
    "            plt.grid()\n",
    "        else:\n",
    "            for i in range(n):\n",
    "                for j in range(m):\n",
    "                    ax[i][j].set_xticks(np.arange(0, self.w, 1))\n",
    "                    ax[i][j].set_yticks(np.arange(0, self.h, 1))\n",
    "                    mesh.append(ax[i][j].pcolormesh(grid, cmap ='tab20c'))\n",
    "                    ax[i][j].grid()\n",
    "        \n",
    "        if show_title:\n",
    "            plt.title(\n",
    "                f'#states: {self.observation_space.n}, #actions: {self.n_actions}',\n",
    "                y=-0.01,\n",
    "                color='gray',\n",
    "            )\n",
    "        \n",
    "        if not show_fig:\n",
    "            plt.close(fig)\n",
    "        \n",
    "        return fig, ax, mesh\n",
    "    \n",
    "    def _move_agent(self, x, y):\n",
    "        goal_achieved = False\n",
    "        # reward when the agent doesnt end up in goal state\n",
    "        reward = Rewards.LEGAL\n",
    "        \n",
    "        if self.state[self.agent_pos[0]][self.agent_pos[1]] == 0.65:\n",
    "            self.state[self.agent_pos[0]][self.agent_pos[1]] = 0.0\n",
    "        \n",
    "        # check if the current agent position is a wall or goal state\n",
    "        if self.state[self.agent_pos[0]][self.agent_pos[1]] != 0.0 and \\\n",
    "         self.state[self.agent_pos[0]][self.agent_pos[1]] != 0.4:\n",
    "            # set different color to visited position\n",
    "            self.state[self.agent_pos[0]][self.agent_pos[1]] = 0.35\n",
    "            \n",
    "        \n",
    "        # clip out-of-bound positions to the edges\n",
    "        if x >= self.h:\n",
    "            # reward when the agent goes out of bound\n",
    "            reward = Rewards.OUT_OF_BOUND\n",
    "            x = self.h-1\n",
    "        else:\n",
    "            x = max(0, x)\n",
    "            \n",
    "        if y >= self.w:\n",
    "            # reward when the agent goes out of bound\n",
    "            reward = Rewards.OUT_OF_BOUND\n",
    "            y = self.w-1\n",
    "        else:\n",
    "            y = max(0, y)\n",
    "        \n",
    "        # set new position\n",
    "        self.agent_pos[0], self.agent_pos[1] = x, y\n",
    "        \n",
    "        # check if the agent's new position is a wall\n",
    "        if self.state[x][y] == 0.0:\n",
    "            self.state[x][y] = 0.65\n",
    "            # reward when the agent hits the wall\n",
    "            reward = Rewards.WALL\n",
    "        else:   \n",
    "            # set agent color in the visualisation\n",
    "            self.state[x][y] = 0.2\n",
    "            \n",
    "        \n",
    "        if self.visited[(x, y)]:\n",
    "            # reward when the agent is traverses the visited states\n",
    "            reward = min(Rewards.VISITED, reward)\n",
    "        \n",
    "        \n",
    "        if (self.agent_pos == self.goal_pos).all():\n",
    "            goal_achieved = True\n",
    "            # reward when the agent reaches goal state\n",
    "            reward = Rewards.GOAL\n",
    "            \n",
    "        return reward, goal_achieved\n",
    "        \n",
    "\n",
    "    def _render_plots(self, n, m, figsize):\n",
    "        fig, ax, mesh = self._set_figure(\n",
    "            self.state,\n",
    "            n,\n",
    "            m,\n",
    "            figsize, \n",
    "            show_fig=True,\n",
    "        )\n",
    "        count = 0\n",
    "        for i in range(n):\n",
    "            for j in range(m):\n",
    "                self._update_fig(_, mesh[count], ax[i][j])\n",
    "                count += 1\n",
    "        \n",
    "        plt.show()\n",
    "        \n",
    "    \n",
    "    def _update_fig(self, i, mesh, ax, action_seq=None):\n",
    "        action = action_seq[i] if action_seq else None\n",
    "        action, reward, _, _, _ = self.step(action=action)\n",
    "        self.state[self.goal_pos[0]][self.goal_pos[1]] = 0.4\n",
    "        mesh.set_array(self.state.flatten())\n",
    "        ax.set_title(\n",
    "            f'timestep: {self.timestep} | reward: {reward} | action: {action}')\n",
    "        return mesh\n",
    "    \n",
    "    def _perform_action(self, action):\n",
    "        self.current_action = action\n",
    "        can_agent_move = True\n",
    "        goal_achieved = False\n",
    "        \n",
    "        if self.is_stochastic:\n",
    "            # make a move according to the transition probability                 \n",
    "            can_agent_move = np.random.choice(\n",
    "                [True, False], p=[\n",
    "                    self.action_transitions[action],\n",
    "                    1-self.action_transitions[action],\n",
    "                ],\n",
    "            )\n",
    "            if can_agent_move == False:\n",
    "                reward = Rewards.LEGAL\n",
    "                \n",
    "        if can_agent_move:\n",
    "            if action.lower() == 'w':\n",
    "                reward, goal_achieved = self._move_agent(\n",
    "                    self.agent_pos[0]+1, self.agent_pos[1]\n",
    "                )\n",
    "            elif action.lower() == 's':\n",
    "                reward, goal_achieved = self._move_agent(\n",
    "                    self.agent_pos[0]-1, self.agent_pos[1]\n",
    "                )\n",
    "            elif action.lower() == 'a':\n",
    "                reward, goal_achieved = self._move_agent(\n",
    "                    self.agent_pos[0], self.agent_pos[1]-1\n",
    "                )\n",
    "            elif action.lower() == 'd':\n",
    "                reward, goal_achieved = self._move_agent(\n",
    "                    self.agent_pos[0], self.agent_pos[1]+1\n",
    "                )\n",
    "\n",
    "        return reward, goal_achieved\n",
    "        \n",
    "    def reset(self):\n",
    "        self.state = self.maze.copy()\n",
    "        self.timestep = 0\n",
    "        self.goal_pos = np.array([self.w-1, self.h-1])\n",
    "        self.agent_pos = np.array([0, 0])\n",
    "        \n",
    "        # set colors for visualization\n",
    "        self.state[self.agent_pos[0]][self.agent_pos[1]] = 0.2\n",
    "        self.state[self.goal_pos[0]][self.goal_pos[1]] = 0.4\n",
    "        \n",
    "        self.current_state = (self.agent_pos[0], self.agent_pos[1])\n",
    "        self.visited = {(i, j):False for j in range(self.w) for i in range(self.h)}\n",
    "        \n",
    "        if self.state_as_img:\n",
    "            fig, _, _ = self._set_figure(self.state)\n",
    "            curr_state = self._get_plot_img(fig)\n",
    "        elif self.full_state:\n",
    "            curr_state = self.state.flatten()\n",
    "        else:\n",
    "            curr_state = self.current_state\n",
    "        \n",
    "        return curr_state\n",
    "    \n",
    "    def step(self, action=None):\n",
    "        done = False\n",
    "        if not action:\n",
    "            # select random action if no action is provided\n",
    "            action_idx = np.random.choice(self.action_space.n)\n",
    "            action = self.actions[action_idx]\n",
    "        elif action not in self.actions:\n",
    "            raise Exception('Action not defined for current environment')\n",
    "        \n",
    "        reward, goal_achieved = self._perform_action(action)\n",
    "                                                                   \n",
    "        self.timestep += 1\n",
    "        self.current_state = (self.agent_pos[0], self.agent_pos[1])\n",
    "        self.visited[(self.agent_pos[0],self.agent_pos[1])] = True\n",
    "        \n",
    "        if self.max_timesteps:\n",
    "            if self.timestep >= self.max_timesteps:\n",
    "                done = True\n",
    "                \n",
    "        if goal_achieved:\n",
    "            done = True\n",
    "            \n",
    "        if self.state_as_img:\n",
    "            fig, _, _ = self._set_figure(self.state)\n",
    "            curr_state = self._get_plot_img(fig)\n",
    "        elif self.full_state:\n",
    "            curr_state = self.state.flatten()\n",
    "        else:\n",
    "            curr_state = self.current_state\n",
    "                                                                   \n",
    "        return action, reward, goal_achieved, curr_state, done\n",
    "    \n",
    "    def render(self, show=False):\n",
    "        fig, ax, mesh = self._set_figure(\n",
    "            self.state,\n",
    "            show_fig=True,\n",
    "        )\n",
    "        if show:\n",
    "            plt.show()\n",
    "        \n",
    "    def animate(self, action_seq=None, filename='animation.mp4'):\n",
    "        self.reset()\n",
    "        fig, ax, mesh = self._set_figure(self.state)\n",
    "        ani = FuncAnimation(\n",
    "            fig,\n",
    "            self._update_fig,\n",
    "            init_func=(lambda: None),\n",
    "            frames=len(action_seq) if action_seq else self.max_timesteps,\n",
    "            interval=160,\n",
    "            fargs=(mesh[0], ax, action_seq, ), \n",
    "        )\n",
    "        ani.save(filename)\n",
    "        return ani"
   ]
  },
  {
   "cell_type": "markdown",
   "id": "84b655dd-4676-4847-b736-34539e3636ba",
   "metadata": {},
   "source": [
    "## Deterministic Environment"
   ]
  },
  {
   "cell_type": "code",
   "execution_count": 4,
   "id": "7cbc7ac7-931c-4214-a72a-3dc001084763",
   "metadata": {},
   "outputs": [],
   "source": [
    "simple_maze = np.array([\n",
    "    [ 1.,  0.,  1.,  1.],\n",
    "    [ 1.,  1.,  1.,  0.],\n",
    "    [ 0.,  0.,  1.,  1.],\n",
    "    [ 1.,  0.,  1.,  0.],\n",
    "])"
   ]
  },
  {
   "cell_type": "code",
   "execution_count": 203,
   "id": "c57b7459-18f7-4306-a9d3-c66619c3d988",
   "metadata": {},
   "outputs": [
    {
     "data": {
      "image/png": "[encoded data removed]",
      "text/plain": [
       "<Figure size 360x360 with 1 Axes>"
      ]
     },
     "metadata": {
      "needs_background": "light"
     },
     "output_type": "display_data"
    }
   ],
   "source": [
    "deterministic_env = GridEnv(\n",
    "    maze=simple_maze.copy(),\n",
    "    is_stochastic=False,\n",
    "    action_transitions={\n",
    "        'w': 1,\n",
    "        's': 1,\n",
    "        'd': 1,\n",
    "        'a': 1,\n",
    "    },\n",
    "    state_as_img=True,\n",
    ")"
   ]
  },
  {
   "cell_type": "markdown",
   "id": "c1d7b56b",
   "metadata": {},
   "source": [
    "### Render #n timesteps"
   ]
  },
  {
   "cell_type": "code",
   "execution_count": 146,
   "id": "aed269ac",
   "metadata": {},
   "outputs": [
    {
     "data": {
      "image/png": "[encoded data removed]",
      "text/plain": [
       "<Figure size 1080x1080 with 9 Axes>"
      ]
     },
     "metadata": {
      "needs_background": "light"
     },
     "output_type": "display_data"
    }
   ],
   "source": [
    "deterministic_env._render_plots(3, 3, figsize=(15, 15))"
   ]
  },
  {
   "cell_type": "markdown",
   "id": "be97cd7c",
   "metadata": {},
   "source": [
    "### Render grid manually"
   ]
  },
  {
   "cell_type": "code",
   "execution_count": 147,
   "id": "04284385",
   "metadata": {},
   "outputs": [
    {
     "name": "stdout",
     "output_type": "stream",
     "text": [
      "Action: s, Goal Achieved: False, Reward: -15.0, State: (2, 0)\n"
     ]
    },
    {
     "data": {
      "image/png": "[encoded data removed]",
      "text/plain": [
       "<Figure size 360x360 with 1 Axes>"
      ]
     },
     "metadata": {
      "needs_background": "light"
     },
     "output_type": "display_data"
    }
   ],
   "source": [
    "# random action will be selected if no action is passed to the step function\n",
    "action, reward, goal_achieved, state, _ = deterministic_env.step(action='s')\n",
    "deterministic_env.render()\n",
    "print(f'Action: {action}, Goal Achieved: {goal_achieved}, Reward: {reward}, State: {state}')"
   ]
  },
  {
   "cell_type": "markdown",
   "id": "30cf77d2",
   "metadata": {},
   "source": [
    "### Animation"
   ]
  },
  {
   "cell_type": "code",
   "execution_count": 148,
   "id": "32992dca",
   "metadata": {},
   "outputs": [
    {
     "data": {
      "text/html": [
       "<video src=\"deterministic_animation.mp4\" controls  >\n",
       "      Your browser does not support the <code>video</code> element.\n",
       "    </video>"
      ],
      "text/plain": [
       "<IPython.core.display.Video object>"
      ]
     },
     "execution_count": 148,
     "metadata": {},
     "output_type": "execute_result"
    }
   ],
   "source": [
    "deterministic_env.animate(\n",
    "    filename='deterministic_animation.mp4',\n",
    "    action_seq=['w', 'd', 'd', 'w', 'w', 'd'],\n",
    ")\n",
    "Video('deterministic_animation.mp4')"
   ]
  },
  {
   "cell_type": "markdown",
   "id": "2a5d6fe7-dbe6-4166-9e2f-961e53624c2b",
   "metadata": {},
   "source": [
    "## Stochastic Environment"
   ]
  },
  {
   "cell_type": "code",
   "execution_count": 401,
   "id": "d26f2bbb",
   "metadata": {},
   "outputs": [
    {
     "data": {
      "image/png": "[encoded data removed]",
      "text/plain": [
       "<Figure size 360x360 with 1 Axes>"
      ]
     },
     "metadata": {
      "needs_background": "light"
     },
     "output_type": "display_data"
    }
   ],
   "source": [
    "stochastic_env = GridEnv(\n",
    "    maze = simple_maze.copy(),\n",
    "    is_stochastic=True,\n",
    "    action_transitions={\n",
    "        'w': 0.95,\n",
    "        's': 0.98,\n",
    "        'd': 0.96,\n",
    "        'a': 0.99,\n",
    "    }\n",
    ")"
   ]
  },
  {
   "cell_type": "markdown",
   "id": "8f9ae5ea-ccef-48c9-b5dc-9744aafddf16",
   "metadata": {},
   "source": [
    "### Render #n timesteps"
   ]
  },
  {
   "cell_type": "code",
   "execution_count": 402,
   "id": "46833e9b-4b07-4c9f-88fd-dbe99f9536c5",
   "metadata": {},
   "outputs": [
    {
     "data": {
      "image/png": "[encoded data removed]",
      "text/plain": [
       "<Figure size 1080x1080 with 9 Axes>"
      ]
     },
     "metadata": {
      "needs_background": "light"
     },
     "output_type": "display_data"
    }
   ],
   "source": [
    "stochastic_env._render_plots(3, 3, figsize=(15, 15))"
   ]
  },
  {
   "cell_type": "markdown",
   "id": "3566243a",
   "metadata": {},
   "source": [
    "### Render #n steps manually"
   ]
  },
  {
   "cell_type": "code",
   "execution_count": 414,
   "id": "7f06101a",
   "metadata": {},
   "outputs": [
    {
     "name": "stdout",
     "output_type": "stream",
     "text": [
      "Action: w, Goal Achieved: False, Reward: -0.15, State: (2, 0)\n"
     ]
    },
    {
     "data": {
      "image/png": "[encoded data removed]",
      "text/plain": [
       "<Figure size 360x360 with 1 Axes>"
      ]
     },
     "metadata": {
      "needs_background": "light"
     },
     "output_type": "display_data"
    }
   ],
   "source": [
    "# random action will be selected if no action is passed to the step function\n",
    "action, reward, goal_achieved, state, _ = stochastic_env.step(action='w')\n",
    "stochastic_env.render()\n",
    "print(f'Action: {action}, Goal Achieved: {goal_achieved}, Reward: {reward}, State: {state}')"
   ]
  },
  {
   "cell_type": "markdown",
   "id": "dc84318d-3cfc-47b6-815b-bd04492b5e16",
   "metadata": {},
   "source": [
    "### Animation"
   ]
  },
  {
   "cell_type": "code",
   "execution_count": 416,
   "id": "940749cc",
   "metadata": {},
   "outputs": [
    {
     "data": {
      "text/html": [
       "<video src=\"stochastic_animation.mp4\" controls  >\n",
       "      Your browser does not support the <code>video</code> element.\n",
       "    </video>"
      ],
      "text/plain": [
       "<IPython.core.display.Video object>"
      ]
     },
     "execution_count": 416,
     "metadata": {},
     "output_type": "execute_result"
    }
   ],
   "source": [
    "stochastic_env.animate('stochastic_animation.mp4')\n",
    "Video('stochastic_animation.mp4')"
   ]
  }
 ],
 "metadata": {
  "kernelspec": {
   "display_name": "Python 3",
   "language": "python",
   "name": "python3"
  },
  "language_info": {
   "codemirror_mode": {
    "name": "ipython",
    "version": 3
   },
   "file_extension": ".py",
   "mimetype": "text/x-python",
   "name": "python",
   "nbconvert_exporter": "python",
   "pygments_lexer": "ipython3",
   "version": "3.8.3"
  }
 },
 "nbformat": 4,
 "nbformat_minor": 5
}
