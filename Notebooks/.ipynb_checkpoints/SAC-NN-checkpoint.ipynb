{
 "cells": [
  {
   "cell_type": "code",
   "execution_count": 1,
   "id": "ff03220c",
   "metadata": {},
   "outputs": [],
   "source": [
    "# add parent directory to path: enable import from parent dir\n",
    "import sys\n",
    "sys.path.append('../')\n",
    "\n",
    "from environment import GridEnv\n",
    "from sac_disc import SAC\n",
    "from policy_net import PolicyNetwork\n",
    "from q_net import QNetwork\n",
    "\n",
    "from IPython.display import Video\n",
    "import numpy as np\n",
    "import matplotlib.pyplot as plt\n",
    "import torch.nn as nn\n",
    "import torch"
   ]
  },
  {
   "cell_type": "code",
   "execution_count": 2,
   "id": "1c0fcfa5",
   "metadata": {},
   "outputs": [],
   "source": [
    "MAZE = np.array([\n",
    "    [ 1.,  0.,  1.,  1.],\n",
    "    [ 1.,  1.,  1.,  0.],\n",
    "    [ 0.,  0.,  1.,  1.],\n",
    "    [ 1.,  0.,  1.,  0.],\n",
    "])"
   ]
  },
  {
   "cell_type": "code",
   "execution_count": 3,
   "id": "e4b920d5",
   "metadata": {},
   "outputs": [
    {
     "data": {
      "image/png": "[encoded data removed]",
      "text/plain": [
       "<Figure size 360x360 with 1 Axes>"
      ]
     },
     "metadata": {
      "needs_background": "light"
     },
     "output_type": "display_data"
    }
   ],
   "source": [
    "env = GridEnv(\n",
    "    maze=MAZE.copy(),\n",
    "    is_stochastic=False,\n",
    "    action_transitions={\n",
    "        'w': 1,\n",
    "        's': 1,\n",
    "        'd': 1,\n",
    "        'a': 1,\n",
    "    },\n",
    "    max_timesteps=300,\n",
    "    full_state=True,\n",
    ")"
   ]
  },
  {
   "cell_type": "code",
   "execution_count": 4,
   "id": "cda072aa",
   "metadata": {
    "tags": []
   },
   "outputs": [],
   "source": [
    "sac = SAC(\n",
    "    env=env,\n",
    "    name='maze',\n",
    "    input_dim=env.n_states,\n",
    "    log_freq=50\n",
    ")"
   ]
  },
  {
   "cell_type": "code",
   "execution_count": 5,
   "id": "5c5128a0",
   "metadata": {},
   "outputs": [
    {
     "name": "stdout",
     "output_type": "stream",
     "text": [
      "collecting experience...\n",
      "0..50..100..Episode: 150, Reward: -158.94999999999996, Avg. Reward: -254.49500000000006, Policy Loss=45.75\n",
      "Episode: 200, Reward: -103.69999999999997, Avg. Reward: -332.87300000000016, Policy Loss=121.65\n",
      "Episode: 250, Reward: -301.99999999999994, Avg. Reward: -233.06400000000008, Policy Loss=158.97\n",
      "Episode: 300, Reward: -878.2500000000022, Avg. Reward: -363.22100000000034, Policy Loss=181.62\n",
      "Episode: 350, Reward: -169.1999999999994, Avg. Reward: -543.4570000000002, Policy Loss=273.36\n",
      "Episode: 400, Reward: -169.1999999999994, Avg. Reward: -372.5759999999998, Policy Loss=215.58\n",
      "Episode: 450, Reward: -169.1999999999994, Avg. Reward: -169.1999999999994, Policy Loss=142.97\n",
      "Episode: 500, Reward: -169.1999999999994, Avg. Reward: -169.1999999999994, Policy Loss=110.72\n",
      "Episode: 550, Reward: -169.1999999999994, Avg. Reward: -169.1999999999994, Policy Loss=96.35\n",
      "Episode: 600, Reward: -169.1999999999994, Avg. Reward: -169.1999999999994, Policy Loss=89.89\n",
      "Episode: 650, Reward: -169.1999999999994, Avg. Reward: -169.1999999999994, Policy Loss=87.14\n",
      "Episode: 700, Reward: -169.1999999999994, Avg. Reward: -169.1999999999994, Policy Loss=85.87\n",
      "Episode: 750, Reward: -169.1999999999994, Avg. Reward: -169.1999999999994, Policy Loss=85.23\n",
      "Episode: 800, Reward: -169.1999999999994, Avg. Reward: -169.1999999999994, Policy Loss=84.84\n",
      "Episode: 850, Reward: -169.1999999999994, Avg. Reward: -169.1999999999994, Policy Loss=84.57\n",
      "Episode: 900, Reward: -169.1999999999994, Avg. Reward: -169.1999999999994, Policy Loss=84.51\n",
      "Episode: 950, Reward: -169.1999999999994, Avg. Reward: -169.1999999999994, Policy Loss=84.36\n"
     ]
    }
   ],
   "source": [
    "sac.run(1000)"
   ]
  },
  {
   "cell_type": "markdown",
   "id": "c243176c",
   "metadata": {},
   "source": [
    "#### Training"
   ]
  },
  {
   "cell_type": "code",
   "execution_count": null,
   "id": "953ea10d",
   "metadata": {},
   "outputs": [],
   "source": [
    "fig, ax = plt.subplots(1, 2, figsize=(16, 8))\n",
    "\n",
    "total_rewards = [log['reward'] for _, log in sac.logs.items()]\n",
    "mean_rewards = sum(total_rewards)/len(total_rewards)\n",
    "ax[0].plot(range(500), total_rewards)\n",
    "ax[0].text(0.5, 0.7, f'Average reward per episode: {round(mean_rewards, 2)}', transform=ax[0].transAxes, size='large')\n",
    "ax[0].set_title('Total reward per episode')\n",
    "\n",
    "cumulative_rewards = [log['avg_reward'] for _, log in sac.logs.items()]\n",
    "ax[1].plot(range(500), cumulative_rewards)\n",
    "ax[1].set_title('Average reward per episode')"
   ]
  }
 ],
 "metadata": {
  "kernelspec": {
   "display_name": "Python 3 (ipykernel)",
   "language": "python",
   "name": "python3"
  },
  "language_info": {
   "codemirror_mode": {
    "name": "ipython",
    "version": 3
   },
   "file_extension": ".py",
   "mimetype": "text/x-python",
   "name": "python",
   "nbconvert_exporter": "python",
   "pygments_lexer": "ipython3",
   "version": "3.9.7"
  }
 },
 "nbformat": 4,
 "nbformat_minor": 5
}
